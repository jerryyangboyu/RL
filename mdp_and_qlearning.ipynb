{
 "cells": [
  {
   "cell_type": "markdown",
   "metadata": {},
   "source": [
    "<font size='5'> <center> <u>**CNN Demo**</u></center></font>\n",
    "\n",
    "This notebook is my note on chapter 17 of the book *Dive Into Deep Learning*. First we will look at markov decision process (MDP) assumption. Then we will introduce value iteration. Finally we will implement the Q-learning algorithm.\n",
    "\n",
    "> TODO: The logic of the notebook here is lagging behind the code. I will update the logic soon."
   ]
  },
  {
   "cell_type": "code",
   "execution_count": null,
   "metadata": {},
   "outputs": [],
   "source": []
  }
 ],
 "metadata": {
  "language_info": {
   "name": "python"
  }
 },
 "nbformat": 4,
 "nbformat_minor": 2
}
